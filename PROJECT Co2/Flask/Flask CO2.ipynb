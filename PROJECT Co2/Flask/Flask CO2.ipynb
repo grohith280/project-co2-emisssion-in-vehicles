{
 "cells": [
  {
   "cell_type": "code",
   "execution_count": null,
   "metadata": {},
   "outputs": [
    {
     "name": "stdout",
     "output_type": "stream",
     "text": [
      " * Serving Flask app \"__main__\" (lazy loading)\n",
      " * Environment: production\n",
      "\u001b[31m   WARNING: This is a development server. Do not use it in a production deployment.\u001b[0m\n",
      "\u001b[2m   Use a production WSGI server instead.\u001b[0m\n",
      " * Debug mode: off\n"
     ]
    },
    {
     "name": "stderr",
     "output_type": "stream",
     "text": [
      "C:\\Users\\pc\\anaconda3\\lib\\site-packages\\sklearn\\base.py:310: UserWarning: Trying to unpickle estimator LinearRegression from version 0.24.1 when using version 0.24.2. This might lead to breaking code or invalid results. Use at your own risk.\n",
      "  warnings.warn(\n",
      " * Running on http://127.0.0.1:5000/ (Press CTRL+C to quit)\n",
      "127.0.0.1 - - [30/Jul/2021 18:31:39] \"\u001b[37mGET / HTTP/1.1\u001b[0m\" 200 -\n",
      "127.0.0.1 - - [30/Jul/2021 18:31:40] \"\u001b[33mGET /style.css HTTP/1.1\u001b[0m\" 404 -\n",
      "127.0.0.1 - - [30/Jul/2021 18:31:40] \"\u001b[33mGET /favicon.ico HTTP/1.1\u001b[0m\" 404 -\n",
      "127.0.0.1 - - [30/Jul/2021 18:31:41] \"\u001b[37mGET /Prediction HTTP/1.1\u001b[0m\" 200 -\n",
      "127.0.0.1 - - [30/Jul/2021 18:31:56] \"\u001b[37mPOST /predict HTTP/1.1\u001b[0m\" 200 -\n"
     ]
    },
    {
     "name": "stdout",
     "output_type": "stream",
     "text": [
      "Prediction is: [[674.91881816]]\n"
     ]
    }
   ],
   "source": [
    "# -*- coding: utf-8 -*-\n",
    "\"\"\"\n",
    "Created on Wed Sep  9 11:41:10 2020\n",
    "\n",
    "@author: Adminr\n",
    "\"\"\"\n",
    "from flask import Flask,request,render_template\n",
    "import numpy as np\n",
    "import pandas as pd\n",
    "import pickle\n",
    "\n",
    "\n",
    "app=Flask(__name__)\n",
    "filepath=\"Model.pkl\"\n",
    "model=pickle.load(open(filepath,'rb'))\n",
    "\n",
    "@app.route('/')\n",
    "def home():\n",
    "    return render_template(\"home.html\")\n",
    "@app.route('/Prediction',methods=['POST','GET'])\n",
    "def prediction(): # route which will take you to the prediction page\n",
    "    return render_template('indexnew.html')\n",
    "@app.route('/Home',methods=['POST','GET'])\n",
    "def my_home():\n",
    "    return render_template('home.html')\n",
    "\n",
    "@app.route('/predict',methods=[\"POST\",\"GET\"])# route to show the predictions in a web UI\n",
    "\n",
    "def predict():\n",
    "    input_feature=[float(x) for x in request.form.values() ]\n",
    "    \n",
    "    features_values=[np.array(input_feature)]\n",
    "    \n",
    "    feature_name=['Make', 'Vehicle_Class', 'Engine_Size', 'Cylinders',\n",
    "       'Transmission', 'Fuel_Type', 'Fuel_Consumption_City',\n",
    "       'Fuel_Consumption_Hwy', 'Fuel_Consumption_Comb(mpg)']\n",
    "    \n",
    "    x=pd.DataFrame(features_values,columns=feature_name)\n",
    "    \n",
    "    prediction=model.predict(x)\n",
    "    \n",
    "    print(\"Prediction is:\",prediction)\n",
    "    \n",
    "    return render_template(\"resultnew.html\",prediction=prediction[0])\n",
    "\n",
    "\n",
    "if __name__==\"__main__\":\n",
    "    app.run(debug=False)\n",
    "    "
   ]
  },
  {
   "cell_type": "code",
   "execution_count": null,
   "metadata": {},
   "outputs": [],
   "source": []
  },
  {
   "cell_type": "code",
   "execution_count": null,
   "metadata": {},
   "outputs": [],
   "source": []
  }
 ],
 "metadata": {
  "kernelspec": {
   "display_name": "Python 3",
   "language": "python",
   "name": "python3"
  },
  "language_info": {
   "codemirror_mode": {
    "name": "ipython",
    "version": 3
   },
   "file_extension": ".py",
   "mimetype": "text/x-python",
   "name": "python",
   "nbconvert_exporter": "python",
   "pygments_lexer": "ipython3",
   "version": "3.8.8"
  }
 },
 "nbformat": 4,
 "nbformat_minor": 4
}
